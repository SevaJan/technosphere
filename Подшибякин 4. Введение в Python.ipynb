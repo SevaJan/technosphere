{
  "nbformat": 4,
  "nbformat_minor": 0,
  "metadata": {
    "colab": {
      "name": "Подшибякин.ipynb",
      "provenance": [],
      "collapsed_sections": []
    },
    "kernelspec": {
      "name": "python3",
      "display_name": "Python 3"
    }
  },
  "cells": [
    {
      "cell_type": "code",
      "metadata": {
        "id": "Jw8Ur7EljCpL",
        "colab_type": "code",
        "colab": {}
      },
      "source": [
        "import numpy as np"
      ],
      "execution_count": 0,
      "outputs": []
    },
    {
      "cell_type": "markdown",
      "metadata": {
        "id": "XY7w6mVJjD2K",
        "colab_type": "text"
      },
      "source": [
        "№1"
      ]
    },
    {
      "cell_type": "code",
      "metadata": {
        "id": "_CSsFVdBcCv8",
        "colab_type": "code",
        "colab": {}
      },
      "source": [
        "def fibonacci_number(n):\n",
        "  if n < 0:\n",
        "    return 'wrong number'\n",
        "  elif -1 < n < 2:\n",
        "    return n\n",
        "  else:\n",
        "    f1 = f2 = 1\n",
        "    for i in range(2, n):\n",
        "      f1, f2 = f2, f1 + f2\n",
        "    return f2"
      ],
      "execution_count": 0,
      "outputs": []
    },
    {
      "cell_type": "code",
      "metadata": {
        "id": "13Y57m-paLL_",
        "colab_type": "code",
        "outputId": "33dec689-8b36-4ae8-cd07-b802187645fa",
        "colab": {
          "base_uri": "https://localhost:8080/",
          "height": 52
        }
      },
      "source": [
        "n = int(input())\n",
        "fibonacci_number(n)"
      ],
      "execution_count": 105,
      "outputs": [
        {
          "output_type": "stream",
          "text": [
            "10\n"
          ],
          "name": "stdout"
        },
        {
          "output_type": "execute_result",
          "data": {
            "text/plain": [
              "55"
            ]
          },
          "metadata": {
            "tags": []
          },
          "execution_count": 105
        }
      ]
    },
    {
      "cell_type": "markdown",
      "metadata": {
        "id": "RjXJ9-SyckmT",
        "colab_type": "text"
      },
      "source": [
        "№2"
      ]
    },
    {
      "cell_type": "code",
      "metadata": {
        "id": "qGxeuf7BcoJD",
        "colab_type": "code",
        "colab": {}
      },
      "source": [
        "def add_zeros(n):\n",
        "  n_zeros = np.insert(n, range(1, len(n)), 0)\n",
        "  return n_zeros"
      ],
      "execution_count": 0,
      "outputs": []
    },
    {
      "cell_type": "code",
      "metadata": {
        "id": "Gdofo1BPgTNy",
        "colab_type": "code",
        "colab": {
          "base_uri": "https://localhost:8080/",
          "height": 52
        },
        "outputId": "8f11a9dc-4cee-4935-eedb-8b1d0f8cce29"
      },
      "source": [
        "n = [int(i) for i in input().split()]\n",
        "add_zeros(n)"
      ],
      "execution_count": 107,
      "outputs": [
        {
          "output_type": "stream",
          "text": [
            "2 -15 71\n"
          ],
          "name": "stdout"
        },
        {
          "output_type": "execute_result",
          "data": {
            "text/plain": [
              "array([  2,   0, -15,   0,  71])"
            ]
          },
          "metadata": {
            "tags": []
          },
          "execution_count": 107
        }
      ]
    }
  ]
}
